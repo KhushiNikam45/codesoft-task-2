{
 "cells": [
  {
   "cell_type": "code",
   "execution_count": 1,
   "id": "8a285365-a8f5-4a22-b8ef-624450759755",
   "metadata": {},
   "outputs": [],
   "source": [
    "import pandas as pd"
   ]
  },
  {
   "cell_type": "code",
   "execution_count": 2,
   "id": "0c87baeb-7ede-4df5-af79-11ee50397064",
   "metadata": {},
   "outputs": [],
   "source": [
    "import matplotlib.pyplot as plt"
   ]
  },
  {
   "cell_type": "code",
   "execution_count": 3,
   "id": "a5f6e230-15c3-4bf6-9ddc-57da388bdab6",
   "metadata": {},
   "outputs": [],
   "source": [
    "import numpy as np"
   ]
  },
  {
   "cell_type": "code",
   "execution_count": 5,
   "id": "d531d5bd-8f97-41bd-a0db-748bd5e765d3",
   "metadata": {},
   "outputs": [],
   "source": [
    "import seaborn as sns"
   ]
  },
  {
   "cell_type": "code",
   "execution_count": 6,
   "id": "84ca0196-4773-4906-a751-7d2a88056fc9",
   "metadata": {},
   "outputs": [],
   "source": [
    "from sklearn.model_selection import train_test_split"
   ]
  },
  {
   "cell_type": "code",
   "execution_count": 9,
   "id": "a5c41ce6-6c6b-474a-ab25-fcd68c4db799",
   "metadata": {},
   "outputs": [],
   "source": [
    "from sklearn.preprocessing import StandardScaler"
   ]
  },
  {
   "cell_type": "code",
   "execution_count": 10,
   "id": "dabcbc18-4dca-4e6d-a4fa-55b4492b5c10",
   "metadata": {},
   "outputs": [],
   "source": [
    "from sklearn.preprocessing import MinMaxScaler"
   ]
  },
  {
   "cell_type": "markdown",
   "id": "16211727-faa6-4404-b415-381614495b76",
   "metadata": {},
   "source": [
    "from sklearn.metrics import confusion_matrix"
   ]
  },
  {
   "cell_type": "code",
   "execution_count": 12,
   "id": "c0f28f1a-41a1-4e3a-9790-b4ffa00b8c0f",
   "metadata": {},
   "outputs": [],
   "source": [
    "from sklearn.linear_model import LogisticRegression"
   ]
  },
  {
   "cell_type": "code",
   "execution_count": 16,
   "id": "ece08ac6-30e3-44b9-940b-a51c66a53b23",
   "metadata": {},
   "outputs": [],
   "source": [
    "from sklearn.metrics import confusion_matrix"
   ]
  },
  {
   "cell_type": "code",
   "execution_count": 17,
   "id": "9955322f-d71e-4bfc-80ad-d1dc822ae106",
   "metadata": {},
   "outputs": [],
   "source": [
    "from matplotlib.colors import ListedColormap"
   ]
  },
  {
   "cell_type": "code",
   "execution_count": 18,
   "id": "a6fabd12-7b34-45f4-9019-fe026a44ccb8",
   "metadata": {},
   "outputs": [],
   "source": [
    "from sklearn.metrics import accuracy_score"
   ]
  },
  {
   "cell_type": "code",
   "execution_count": 21,
   "id": "f6520a7e-32c7-4250-8616-46ce021b0ac3",
   "metadata": {},
   "outputs": [],
   "source": [
    "from sklearn.metrics import confusion_matrix,accuracy_score,precision_score,recall_score,f1_score,roc_auc_score,classification_report,log_loss"
   ]
  },
  {
   "cell_type": "code",
   "execution_count": 22,
   "id": "3a7165be-b320-455d-8163-60aa27bc8d55",
   "metadata": {},
   "outputs": [],
   "source": [
    "from sklearn.ensemble import RandomForestClassifier"
   ]
  },
  {
   "cell_type": "code",
   "execution_count": 28,
   "id": "9b562dd9-306a-4316-b4c3-a501758edc2a",
   "metadata": {},
   "outputs": [],
   "source": [
    "df = pd.read_csv(\"C:\\\\Users\\\\Asus\\\\Desktop\\\\internship titanic folder\\\\Titanic-Dataset.csv\")"
   ]
  },
  {
   "cell_type": "code",
   "execution_count": 29,
   "id": "cd754e3a-4157-4a18-a526-b5a898d1c478",
   "metadata": {},
   "outputs": [
    {
     "name": "stdout",
     "output_type": "stream",
     "text": [
      "   PassengerId  Survived  Pclass  \\\n",
      "0            1         0       3   \n",
      "1            2         1       1   \n",
      "2            3         1       3   \n",
      "3            4         1       1   \n",
      "4            5         0       3   \n",
      "\n",
      "                                                Name     Sex   Age  SibSp  \\\n",
      "0                            Braund, Mr. Owen Harris    male  22.0      1   \n",
      "1  Cumings, Mrs. John Bradley (Florence Briggs Th...  female  38.0      1   \n",
      "2                             Heikkinen, Miss. Laina  female  26.0      0   \n",
      "3       Futrelle, Mrs. Jacques Heath (Lily May Peel)  female  35.0      1   \n",
      "4                           Allen, Mr. William Henry    male  35.0      0   \n",
      "\n",
      "   Parch            Ticket     Fare Cabin Embarked  \n",
      "0      0         A/5 21171   7.2500   NaN        S  \n",
      "1      0          PC 17599  71.2833   C85        C  \n",
      "2      0  STON/O2. 3101282   7.9250   NaN        S  \n",
      "3      0            113803  53.1000  C123        S  \n",
      "4      0            373450   8.0500   NaN        S  \n"
     ]
    }
   ],
   "source": [
    "print(df.head())"
   ]
  },
  {
   "cell_type": "code",
   "execution_count": 30,
   "id": "98df9825-a9d3-4f67-8cfe-8940eb084f5d",
   "metadata": {},
   "outputs": [
    {
     "data": {
      "text/plain": [
       "0      False\n",
       "1      False\n",
       "2      False\n",
       "3      False\n",
       "4      False\n",
       "       ...  \n",
       "886    False\n",
       "887    False\n",
       "888    False\n",
       "889    False\n",
       "890    False\n",
       "Length: 891, dtype: bool"
      ]
     },
     "execution_count": 30,
     "metadata": {},
     "output_type": "execute_result"
    }
   ],
   "source": [
    "df.duplicated()"
   ]
  },
  {
   "cell_type": "code",
   "execution_count": 31,
   "id": "9eb0bddf-2bd7-415d-81ce-f6fd0b3198e3",
   "metadata": {},
   "outputs": [
    {
     "name": "stdout",
     "output_type": "stream",
     "text": [
      "<class 'pandas.core.frame.DataFrame'>\n",
      "RangeIndex: 891 entries, 0 to 890\n",
      "Data columns (total 12 columns):\n",
      " #   Column       Non-Null Count  Dtype  \n",
      "---  ------       --------------  -----  \n",
      " 0   PassengerId  891 non-null    int64  \n",
      " 1   Survived     891 non-null    int64  \n",
      " 2   Pclass       891 non-null    int64  \n",
      " 3   Name         891 non-null    object \n",
      " 4   Sex          891 non-null    object \n",
      " 5   Age          714 non-null    float64\n",
      " 6   SibSp        891 non-null    int64  \n",
      " 7   Parch        891 non-null    int64  \n",
      " 8   Ticket       891 non-null    object \n",
      " 9   Fare         891 non-null    float64\n",
      " 10  Cabin        204 non-null    object \n",
      " 11  Embarked     889 non-null    object \n",
      "dtypes: float64(2), int64(5), object(5)\n",
      "memory usage: 83.7+ KB\n"
     ]
    }
   ],
   "source": [
    "df.info()"
   ]
  },
  {
   "cell_type": "code",
   "execution_count": 32,
   "id": "2420b237-fb83-4608-9023-242de4c25ef5",
   "metadata": {},
   "outputs": [],
   "source": [
    "df1 = df.drop(columns=['Name','Ticket'])"
   ]
  },
  {
   "cell_type": "code",
   "execution_count": 33,
   "id": "e0ae34ec-0582-45a4-baee-f26fdac941bf",
   "metadata": {},
   "outputs": [
    {
     "data": {
      "text/plain": [
       "(891, 10)"
      ]
     },
     "execution_count": 33,
     "metadata": {},
     "output_type": "execute_result"
    }
   ],
   "source": [
    "df1.shape"
   ]
  },
  {
   "cell_type": "code",
   "execution_count": 35,
   "id": "784e8618-250e-41e4-acab-b845739dcac2",
   "metadata": {},
   "outputs": [],
   "source": [
    "df2 = df1.drop(columns='Cabin')"
   ]
  },
  {
   "cell_type": "code",
   "execution_count": 38,
   "id": "1ce9e3df-a7af-4589-8808-c19e5cf571ec",
   "metadata": {},
   "outputs": [],
   "source": [
    "df2.dropna(subset=['Embarked'],axis=0,inplace=True)"
   ]
  },
  {
   "cell_type": "code",
   "execution_count": 39,
   "id": "cd166482-a1a8-4979-906c-9a53a736904c",
   "metadata": {},
   "outputs": [
    {
     "data": {
      "text/plain": [
       "(889, 9)"
      ]
     },
     "execution_count": 39,
     "metadata": {},
     "output_type": "execute_result"
    }
   ],
   "source": [
    "df2.shape"
   ]
  },
  {
   "cell_type": "code",
   "execution_count": 59,
   "id": "de4e9a96-f917-43aa-8308-a799cb77d82b",
   "metadata": {},
   "outputs": [],
   "source": [
    "x = df3[['Pclass','Sex','Age','SibSp','Parch','Fare','Embarked']]\n",
    "y = df3['Survived']"
   ]
  },
  {
   "cell_type": "code",
   "execution_count": 115,
   "id": "cf0756f1-7c56-4285-bf7e-a067f6b2ed2c",
   "metadata": {},
   "outputs": [
    {
     "data": {
      "image/png": "[encoded data removed]",
      "text/plain": [
       "<Figure size 640x480 with 1 Axes>"
      ]
     },
     "metadata": {},
     "output_type": "display_data"
    }
   ],
   "source": [
    "survival_counts = df.groupby(['Sex','Survived']).size().reset_index(name='Count')\n",
    "sns.barplot(data=survival_counts,x='Sex',y='Count',hue='Survived',palette={0:\"red\",1:\"green\"})\n",
    "plt.title(\"Survival Count by Gender\")\n",
    "plt.xlabel(\"Gender\")\n",
    "plt.ylabel(\"Count\")\n",
    "plt.legend(title=\"Survival\",labels=[\"No\",\"Yes\"])\n",
    "plt.show()"
   ]
  },
  {
   "cell_type": "code",
   "execution_count": 42,
   "id": "bd8bf8f7-cd91-4699-afa1-aa6c5738ca2c",
   "metadata": {},
   "outputs": [
    {
     "data": {
      "text/plain": [
       "PassengerId    0\n",
       "Survived       0\n",
       "Pclass         0\n",
       "Sex            0\n",
       "Age            0\n",
       "SibSp          0\n",
       "Parch          0\n",
       "Fare           0\n",
       "Embarked       0\n",
       "dtype: int64"
      ]
     },
     "execution_count": 42,
     "metadata": {},
     "output_type": "execute_result"
    }
   ],
   "source": [
    "df3 =df2.fillna(df2.Age.mean())\n",
    "df3.isnull().sum()"
   ]
  },
  {
   "cell_type": "code",
   "execution_count": 121,
   "id": "cce80441-865a-4fc1-bab9-3564c850cddf",
   "metadata": {},
   "outputs": [
    {
     "name": "stdout",
     "output_type": "stream",
     "text": [
      "(711, 7) (178, 7) (711,) (178,)\n"
     ]
    }
   ],
   "source": [
    "x_train, x_test, y_train, y_test = train_test_split(x, y,test_size=0.20, random_state=0)\n",
    "prrint(x_train.shape,x_test.shape,y_train.shape,y_test.shape)\n"
   ]
  },
  {
   "cell_type": "raw",
   "id": "3153dc90-146e-43d7-91a1-f987e896db8f",
   "metadata": {},
   "source": [
    "st_x= StandardScaler\n",
    "x_train= st_x.fit_transform(x_train)\n",
    "x_test= st_x.transform(x_test)"
   ]
  },
  {
   "cell_type": "code",
   "execution_count": null,
   "id": "4b329fcd-d697-4316-b7e8-8bc82a2f51a5",
   "metadata": {},
   "outputs": [],
   "source": [
    "y_train_binary = (y_train > 0.5).astype(int)\n"
   ]
  },
  {
   "cell_type": "code",
   "execution_count": 23,
   "id": "729f3516-edda-49a5-9c6c-b48a497ac807",
   "metadata": {},
   "outputs": [
    {
     "name": "stdout",
     "output_type": "stream",
     "text": [
      "[[0.   0.01 0.02 ... 7.97 7.98 7.99]\n",
      " [0.   0.01 0.02 ... 7.97 7.98 7.99]\n",
      " [0.   0.01 0.02 ... 7.97 7.98 7.99]\n",
      " ...\n",
      " [0.   0.01 0.02 ... 7.97 7.98 7.99]\n",
      " [0.   0.01 0.02 ... 7.97 7.98 7.99]\n",
      " [0.   0.01 0.02 ... 7.97 7.98 7.99]] [[1.   1.   1.   ... 1.   1.   1.  ]\n",
      " [1.01 1.01 1.01 ... 1.01 1.01 1.01]\n",
      " [1.02 1.02 1.02 ... 1.02 1.02 1.02]\n",
      " ...\n",
      " [8.97 8.97 8.97 ... 8.97 8.97 8.97]\n",
      " [8.98 8.98 8.98 ... 8.98 8.98 8.98]\n",
      " [8.99 8.99 8.99 ... 8.99 8.99 8.99]]\n"
     ]
    }
   ],
   "source": [
    "import numpy as np\n",
    "\n",
    "# Example data\n",
    "x_train = np.array([[1, 2], [3, 4], [5, 6], [7, 8]])  # 4 samples, 2 features\n",
    "y_train = np.array([0, 1, 0, 1])  # Binary labels (0 or 1)\n",
    "\n",
    "# Set x_set and y_set to x_train and y_train\n",
    "x_set, y_set = x_train, y_train\n",
    "\n",
    "# Create a meshgrid for plotting decision boundaries\n",
    "x1, x2 = np.meshgrid(\n",
    "    np.arange(start=x_set[:, 0].min() - 1, stop=x_set[:, 0].max() + 1, step=0.01),  # Adjusted slicing\n",
    "    np.arange(start=x_set[:, 1].min() - 1, stop=x_set[:, 1].max() + 1, step=0.01)   # Adjusted slicing\n",
    ")\n",
    "\n",
    "# x1 and x2 are 2D arrays with the grid coordinates\n",
    "print(x1, x2)\n"
   ]
  },
  {
   "cell_type": "code",
   "execution_count": null,
   "id": "f38df1dc-ec1c-426f-9a06-e832cad00f81",
   "metadata": {},
   "outputs": [],
   "source": []
  },
  {
   "cell_type": "code",
   "execution_count": null,
   "id": "f5ce94ef-06dd-421a-bee8-12fdd42830b5",
   "metadata": {},
   "outputs": [],
   "source": [
    "\n"
   ]
  },
  {
   "cell_type": "code",
   "execution_count": null,
   "id": "186785f4-b39f-4ac0-96bf-087f7d78587d",
   "metadata": {},
   "outputs": [],
   "source": []
  },
  {
   "cell_type": "code",
   "execution_count": null,
   "id": "aa3b0fbb-0ab3-46e1-8295-10fd0457e029",
   "metadata": {},
   "outputs": [],
   "source": []
  },
  {
   "cell_type": "code",
   "execution_count": null,
   "id": "49dcb0c3-539a-44d6-8ce7-bcb95a05ed31",
   "metadata": {},
   "outputs": [],
   "source": []
  },
  {
   "cell_type": "code",
   "execution_count": null,
   "id": "f2fa76c8-3a6e-40b1-bd9e-f765b36ef156",
   "metadata": {},
   "outputs": [],
   "source": []
  }
 ],
 "metadata": {
  "kernelspec": {
   "display_name": "Python 3 (ipykernel)",
   "language": "python",
   "name": "python3"
  },
  "language_info": {
   "codemirror_mode": {
    "name": "ipython",
    "version": 3
   },
   "file_extension": ".py",
   "mimetype": "text/x-python",
   "name": "python",
   "nbconvert_exporter": "python",
   "pygments_lexer": "ipython3",
   "version": "3.13.1"
  },
  "widgets": {
   "application/vnd.jupyter.widget-state+json": {
    "state": {},
    "version_major": 2,
    "version_minor": 0
   }
  }
 },
 "nbformat": 4,
 "nbformat_minor": 5
}
